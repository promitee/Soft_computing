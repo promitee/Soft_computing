{
  "nbformat": 4,
  "nbformat_minor": 0,
  "metadata": {
    "colab": {
      "name": "170104154_exp_3.ipynb",
      "provenance": [],
      "toc_visible": true,
      "include_colab_link": true
    },
    "kernelspec": {
      "name": "python3",
      "display_name": "Python 3"
    },
    "language_info": {
      "name": "python"
    }
  },
  "cells": [
    {
      "cell_type": "markdown",
      "metadata": {
        "id": "view-in-github",
        "colab_type": "text"
      },
      "source": [
        "<a href=\"https://colab.research.google.com/github/promitee/Soft_computing/blob/main/170104154_exp_3.ipynb\" target=\"_parent\"><img src=\"https://colab.research.google.com/assets/colab-badge.svg\" alt=\"Open In Colab\"/></a>"
      ]
    },
    {
      "cell_type": "markdown",
      "metadata": {
        "id": "Ie5HfdGnJioi"
      },
      "source": [
        "# Locate Dataset Path & Add Library"
      ]
    },
    {
      "cell_type": "code",
      "metadata": {
        "colab": {
          "base_uri": "https://localhost:8080/"
        },
        "id": "6wM6iKX_Ab0v",
        "outputId": "d82ce24b-79e4-46db-fc4c-8b4ce7e25662"
      },
      "source": [
        "from google.colab import drive\n",
        "drive.mount('/Soft_Computing_Dataset')"
      ],
      "execution_count": null,
      "outputs": [
        {
          "output_type": "stream",
          "name": "stdout",
          "text": [
            "Mounted at /Soft_Computing_Dataset\n"
          ]
        }
      ]
    },
    {
      "cell_type": "code",
      "metadata": {
        "id": "nKAQX7EVAgKp"
      },
      "source": [
        "import os\n",
        "import torch\n",
        "import numpy as np\n",
        "import pandas as pd\n",
        "import torch.nn as nn\n",
        "from PIL import Image\n",
        "import matplotlib.pyplot as plt\n",
        "from torch.utils.data import Dataset\n",
        "import torchvision.datasets as dsets\n",
        "import torchvision.transforms as transforms\n",
        "from torch.utils.data import Dataset, DataLoader  \n",
        "from torchvision import datasets, transforms, models\n",
        "from torch.utils.data.sampler import SubsetRandomSampler"
      ],
      "execution_count": null,
      "outputs": []
    },
    {
      "cell_type": "code",
      "metadata": {
        "colab": {
          "base_uri": "https://localhost:8080/"
        },
        "id": "LHnekY-UAlyG",
        "outputId": "06ea09c0-7620-4241-94b1-487a36e955c1"
      },
      "source": [
        "%cd /Soft_Computing_Dataset/MyDrive/Soft_Computing_Lab/Dataset_2\n",
        "!unzip \\*.zip"
      ],
      "execution_count": null,
      "outputs": [
        {
          "output_type": "stream",
          "name": "stdout",
          "text": [
            "/Soft_Computing_Dataset/MyDrive/Soft_Computing_Lab/Dataset_2\n",
            "Archive:  Dataset_2.zip\n",
            "   creating: Dataset_2/\n",
            "  inflating: Dataset_2/t10k-images-idx3-ubyte  \n",
            "  inflating: Dataset_2/t10k-labels-idx1-ubyte  \n",
            "  inflating: Dataset_2/train-images-idx3-ubyte  \n",
            "  inflating: Dataset_2/train-labels-idx1-ubyte  \n",
            "  inflating: Dataset_2/verification_test.csv  \n",
            "  inflating: Dataset_2/verification_train.csv  \n"
          ]
        }
      ]
    },
    {
      "cell_type": "markdown",
      "metadata": {
        "id": "AMU5f5FAJnWr"
      },
      "source": [
        "# Dataset"
      ]
    },
    {
      "cell_type": "code",
      "metadata": {
        "id": "YsdUU41GAxms"
      },
      "source": [
        "train  = pd.read_csv('/Soft_Computing_Dataset/MyDrive/Soft_Computing_Lab/Dataset_2/Dataset_2/verification_train.csv')\n",
        "test = pd.read_csv('/Soft_Computing_Dataset/MyDrive/Soft_Computing_Lab/Dataset_2/Dataset_2/verification_test.csv')"
      ],
      "execution_count": null,
      "outputs": []
    },
    {
      "cell_type": "code",
      "metadata": {
        "id": "8Pu2SqNjArvG"
      },
      "source": [
        "class assignment_dataset_2(Dataset):\n",
        "    def __init__(self, data, transform = None):\n",
        "        self.data = list(data.values)\n",
        "        self.transform = transform\n",
        "        \n",
        "        y_label = []\n",
        "        image = []\n",
        "        \n",
        "        for i in self.data:\n",
        "            y_label.append(i[0])\n",
        "            image.append(i[1:])\n",
        "        self.labels = np.asarray(y_label)\n",
        "        self.images = np.asarray(image).reshape(-1, 28, 28, 1)\n",
        "        \n",
        "    def __len__(self):\n",
        "        return len(self.images)\n",
        "\n",
        "    def __getitem__(self, index):\n",
        "        y_label = self.labels[index]\n",
        "        image = self.images[index]\n",
        "        \n",
        "        if self.transform is not None:\n",
        "            image = self.transform(image)\n",
        "\n",
        "        return image, label"
      ],
      "execution_count": null,
      "outputs": []
    },
    {
      "cell_type": "code",
      "metadata": {
        "id": "toXVcvjUAuB2"
      },
      "source": [
        "train_set = assignment_dataset_2(train, transform=transforms.Compose([transforms.ToTensor()]))\n",
        "test_set = assignment_dataset_2(test, transform=transforms.Compose([transforms.ToTensor()]))"
      ],
      "execution_count": null,
      "outputs": []
    },
    {
      "cell_type": "markdown",
      "metadata": {
        "id": "NftD2g7tMYQN"
      },
      "source": [
        "# Hyperparameter & Dataset splitting"
      ]
    },
    {
      "cell_type": "code",
      "metadata": {
        "id": "NxCwt9AGKEY6"
      },
      "source": [
        "batch_size = 200\n",
        "num_iters = 20000\n",
        "input_dim = 28 * 28 \n",
        "num_hidden = 500\n",
        "output_dim = 10\n",
        "learning_rate = 0.1\n",
        "\n",
        "device = torch.device(\"cuda:0\" if torch.cuda.is_available() else \"cpu\")"
      ],
      "execution_count": null,
      "outputs": []
    },
    {
      "cell_type": "code",
      "metadata": {
        "colab": {
          "base_uri": "https://localhost:8080/"
        },
        "id": "xiQhgGOYJ9FP",
        "outputId": "6fa2588b-3497-4684-d7bb-ba4da885ce51"
      },
      "source": [
        "train_loader = torch.utils.data.DataLoader(dataset=train_set, \n",
        "                                           batch_size=batch_size, \n",
        "                                           shuffle=True) \n",
        "\n",
        "test_loader = torch.utils.data.DataLoader(dataset=test_set, \n",
        "                                          batch_size=batch_size, \n",
        "                                          shuffle=False)  \n",
        "\n",
        "num_epochs = num_iters / (len(train_set) / batch_size)\n",
        "num_epochs = int(num_epochs)\n",
        "print('Epoch Number: ',num_epochs)\n",
        "print('Train set: ',len(train_set))\n",
        "print('Train set: ',len(test_set))\n",
        "print('Train dataloader: ',len(train_loader))\n",
        "print('Train dataloader: ',len(test_loader))"
      ],
      "execution_count": null,
      "outputs": [
        {
          "output_type": "stream",
          "name": "stdout",
          "text": [
            "Epoch Number:  66\n",
            "Train set:  60000\n",
            "Train set:  10000\n",
            "Train dataloader:  300\n",
            "Train dataloader:  50\n"
          ]
        }
      ]
    },
    {
      "cell_type": "code",
      "metadata": {
        "colab": {
          "base_uri": "https://localhost:8080/"
        },
        "id": "GhHgxYz2Baoa",
        "outputId": "54ebbf76-a9fa-43c8-89d6-5e2e158982c1"
      },
      "source": [
        "itr_loss = []\n",
        "acc = []\n",
        "class DeepNeuralNetworkModel(nn.Module):\n",
        "    def __init__(self, input_size, num_classes, num_hidden):\n",
        "        super().__init__()\n",
        "        ### 1st hidden layer: 784 --> 100\n",
        "        self.linear_1 = nn.Linear(input_size, num_hidden)\n",
        "        ### Non-linearity in 1st hidden layer\n",
        "        self.relu_1 = nn.ReLU()\n",
        "\n",
        "        ### 3rd hidden layer: 100 --> 100\n",
        "        self.linear_3 = nn.Linear(num_hidden, num_hidden)\n",
        "        ### Non-linearity in 3rd hidden layer\n",
        "        self.tanh_1 = nn.Tanh()\n",
        "\n",
        "        ### 2nd hidden layer: 100 --> 100\n",
        "        self.linear_2 = nn.Linear(num_hidden, num_hidden)\n",
        "        ### Non-linearity in 2nd hidden layer\n",
        "        self.relu_2 = nn.ReLU()\n",
        "\n",
        "        \n",
        "\n",
        "        ### Output layer: 100 --> 10\n",
        "        self.linear_out = nn.Linear(num_hidden, num_classes)\n",
        "\n",
        "    def forward(self, x):\n",
        "        ### 1st hidden layer\n",
        "        out  = self.linear_1(x)\n",
        "        ### Non-linearity in 1st hidden layer\n",
        "        out = self.relu_1(out)\n",
        "        \n",
        "        ### 3rd hidden layer\n",
        "        out  = self.linear_3(out)\n",
        "        ### Non-linearity in 3rd hidden layer\n",
        "        out = self.tanh_1(out)\n",
        "\n",
        "        ### 2nd hidden layer\n",
        "        out  = self.linear_2(out)\n",
        "        ### Non-linearity in 2nd hidden layer\n",
        "        out = self.relu_2(out)\n",
        "\n",
        "        \n",
        "        \n",
        "        # Linear layer (output)\n",
        "        probas  = self.linear_out(out)\n",
        "        return probas\n",
        "\n",
        "# INSTANTIATE MODEL CLASS\n",
        "\n",
        "model = DeepNeuralNetworkModel(input_size = input_dim,\n",
        "                               num_classes = output_dim,\n",
        "                               num_hidden = num_hidden)\n",
        "# To enable GPU\n",
        "model.to(device)\n",
        "\n",
        "# INSTANTIATE LOSS & OPTIMIZER CLASS\n",
        "criterion = nn.CrossEntropyLoss()\n",
        "optimizer = torch.optim.SGD(model.parameters(), lr=learning_rate)\n",
        "\n",
        "iter = 0\n",
        "for epoch in range(num_epochs):\n",
        "  try:\n",
        "    for i, (images, labels) in enumerate(train_loader):\n",
        "\n",
        "        images = images.view(-1, 28*28).to(device)\n",
        "        labels = labels.to(device)\n",
        "\n",
        "        # Clear gradients w.r.t. parameters\n",
        "        optimizer.zero_grad()\n",
        "\n",
        "        # Forward pass to get output/logits\n",
        "        outputs = model(images) \n",
        "\n",
        "        # Calculate Loss: softmax --> cross entropy loss\n",
        "        loss = criterion(outputs, labels)\n",
        "\n",
        "        # Getting gradients w.r.t. parameters\n",
        "        loss.backward()\n",
        "\n",
        "        # Updating parameters\n",
        "        optimizer.step()\n",
        "\n",
        "        iter += 1\n",
        "\n",
        "        if iter % 500 == 0:\n",
        "            # Calculate Accuracy         \n",
        "            correct = 0\n",
        "            total = 0\n",
        "            # Iterate through test dataset\n",
        "            for images, labels in test_loader:\n",
        "               \n",
        "                images = images.view(-1, 28*28).to(device)\n",
        "\n",
        "                # Forward pass only to get logits/output\n",
        "                outputs = model(images)\n",
        "\n",
        "                # Get predictions from the maximum value\n",
        "                _, predicted = torch.max(outputs, 1)\n",
        "\n",
        "                # Total number of labels\n",
        "                total += labels.size(0)\n",
        "\n",
        "\n",
        "                # Total correct predictions\n",
        "                if torch.cuda.is_available():\n",
        "                    correct += (predicted.cpu() == labels.cpu()).sum() \n",
        "                else:\n",
        "                    correct += (predicted == labels).sum()\n",
        "\n",
        "            accuracy = 100 * correct.item() / total\n",
        "\n",
        "            # Print Loss\n",
        "            itr_loss.append(loss.item())\n",
        "            acc.append(accuracy)\n",
        "            print('Iteration: {}. Loss: {}. Accuracy: {}'.format(iter, loss.item(), accuracy))\n",
        "  except Exception as e:\n",
        "    print(e)"
      ],
      "execution_count": null,
      "outputs": [
        {
          "output_type": "stream",
          "name": "stdout",
          "text": [
            "Iteration: 500. Loss: 0.5043308734893799. Accuracy: 82.83\n",
            "Iteration: 1000. Loss: 0.48022568225860596. Accuracy: 83.19\n",
            "Iteration: 1500. Loss: 0.42333632707595825. Accuracy: 83.3\n",
            "Iteration: 2000. Loss: 0.38432231545448303. Accuracy: 83.37\n",
            "Iteration: 2500. Loss: 0.4122728109359741. Accuracy: 85.21\n",
            "Iteration: 3000. Loss: 0.3523421883583069. Accuracy: 83.83\n",
            "Iteration: 3500. Loss: 0.6050381064414978. Accuracy: 79.17\n",
            "Iteration: 4000. Loss: 0.4399062991142273. Accuracy: 84.1\n",
            "Iteration: 4500. Loss: 0.4778766632080078. Accuracy: 84.88\n",
            "Iteration: 5000. Loss: 0.41372260451316833. Accuracy: 85.38\n",
            "Iteration: 5500. Loss: 0.5021746158599854. Accuracy: 82.43\n",
            "Iteration: 6000. Loss: 0.391724169254303. Accuracy: 83.39\n",
            "Iteration: 6500. Loss: 0.36602357029914856. Accuracy: 83.7\n",
            "Iteration: 7000. Loss: 0.43175750970840454. Accuracy: 77.01\n",
            "Iteration: 7500. Loss: 0.5424678921699524. Accuracy: 80.11\n",
            "Iteration: 8000. Loss: 0.37542399764060974. Accuracy: 82.29\n",
            "Iteration: 8500. Loss: 0.4783751666545868. Accuracy: 82.56\n",
            "Iteration: 9000. Loss: 0.6901664733886719. Accuracy: 77.1\n",
            "Iteration: 9500. Loss: 0.5875596404075623. Accuracy: 81.2\n",
            "Iteration: 10000. Loss: 0.5743711590766907. Accuracy: 81.32\n",
            "Iteration: 10500. Loss: 1.0452914237976074. Accuracy: 65.96\n",
            "Iteration: 11000. Loss: 0.46947020292282104. Accuracy: 80.86\n",
            "Iteration: 11500. Loss: 0.6107560396194458. Accuracy: 82.42\n",
            "Iteration: 12000. Loss: 0.6493028998374939. Accuracy: 78.06\n",
            "Iteration: 12500. Loss: 0.48478347063064575. Accuracy: 82.3\n",
            "Iteration: 13000. Loss: 0.6347227096557617. Accuracy: 79.84\n",
            "Iteration: 13500. Loss: 0.6137449741363525. Accuracy: 82.35\n",
            "Iteration: 14000. Loss: 0.6955236792564392. Accuracy: 73.61\n",
            "Iteration: 14500. Loss: 0.5866438746452332. Accuracy: 72.05\n",
            "Iteration: 15000. Loss: 0.5263239741325378. Accuracy: 77.22\n",
            "Iteration: 15500. Loss: 0.5524957180023193. Accuracy: 77.96\n",
            "Iteration: 16000. Loss: 0.9847227334976196. Accuracy: 67.4\n",
            "Iteration: 16500. Loss: 0.6028249859809875. Accuracy: 79.29\n",
            "Iteration: 17000. Loss: 0.502996027469635. Accuracy: 80.52\n",
            "Iteration: 17500. Loss: 0.5822083950042725. Accuracy: 80.91\n",
            "Iteration: 18000. Loss: 0.4871504604816437. Accuracy: 78.64\n",
            "Iteration: 18500. Loss: 0.5230352878570557. Accuracy: 81.11\n",
            "Iteration: 19000. Loss: 0.6261370182037354. Accuracy: 75.72\n",
            "Iteration: 19500. Loss: 0.6848509907722473. Accuracy: 74.51\n"
          ]
        }
      ]
    },
    {
      "cell_type": "markdown",
      "metadata": {
        "id": "Oh_osfjuMfze"
      },
      "source": [
        "# Save Model"
      ]
    },
    {
      "cell_type": "code",
      "metadata": {
        "id": "ctrVLaJAB0f2"
      },
      "source": [
        "torch.save(model.state_dict(), '/Soft_Computing_Dataset/MyDrive/Soft_Computing_Lab/Dataset_2/model_base_1.pkl')"
      ],
      "execution_count": null,
      "outputs": []
    },
    {
      "cell_type": "markdown",
      "metadata": {
        "id": "uPy6Fk3vMjsV"
      },
      "source": [
        "# Visualize Model Result"
      ]
    },
    {
      "cell_type": "code",
      "metadata": {
        "colab": {
          "base_uri": "https://localhost:8080/",
          "height": 297
        },
        "id": "Yg2P-M6bEWI-",
        "outputId": "ca440e86-aad8-4cd9-c060-bdf079312007"
      },
      "source": [
        "plt.plot(itr_loss)\n",
        "plt.ylabel('Loss')\n",
        "plt.xlabel('Iteration')\n",
        "plt.show()\n",
        "plt.savefig('/Soft_Computing_Dataset/MyDrive/Soft_Computing_Lab/Dataset_2/loss_exp_03.png')"
      ],
      "execution_count": null,
      "outputs": [
        {
          "output_type": "display_data",
          "data": {
            "image/png": "[encoded data removed]",
            "text/plain": [
              "<Figure size 432x288 with 1 Axes>"
            ]
          },
          "metadata": {
            "needs_background": "light"
          }
        },
        {
          "output_type": "display_data",
          "data": {
            "text/plain": [
              "<Figure size 432x288 with 0 Axes>"
            ]
          },
          "metadata": {}
        }
      ]
    },
    {
      "cell_type": "code",
      "metadata": {
        "colab": {
          "base_uri": "https://localhost:8080/",
          "height": 297
        },
        "id": "BR7-k5RNEc3q",
        "outputId": "008fe050-ce64-4ab5-a347-af82c1f876d7"
      },
      "source": [
        "plt.plot(acc)\n",
        "plt.ylabel('Accuracy')\n",
        "plt.xlabel('Iteration')\n",
        "plt.show()\n",
        "plt.savefig('/Soft_Computing_Dataset/MyDrive/Soft_Computing_Lab/Dataset_2/acc_exp_03.png')"
      ],
      "execution_count": null,
      "outputs": [
        {
          "output_type": "display_data",
          "data": {
            "image/png": "[encoded data removed]",
            "text/plain": [
              "<Figure size 432x288 with 1 Axes>"
            ]
          },
          "metadata": {
            "needs_background": "light"
          }
        },
        {
          "output_type": "display_data",
          "data": {
            "text/plain": [
              "<Figure size 432x288 with 0 Axes>"
            ]
          },
          "metadata": {}
        }
      ]
    },
    {
      "cell_type": "code",
      "metadata": {
        "id": "herR4GkgEi57"
      },
      "source": [
        ""
      ],
      "execution_count": null,
      "outputs": []
    }
  ]
}